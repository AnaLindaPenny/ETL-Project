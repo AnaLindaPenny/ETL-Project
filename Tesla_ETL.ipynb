{
 "cells": [
  {
   "cell_type": "code",
   "execution_count": 1,
   "metadata": {},
   "outputs": [],
   "source": [
    "import pandas as pd\n",
    "from sqlalchemy import create_engine\n",
    "from functools import reduce\n",
    "import numpy as np\n",
    "import datetime"
   ]
  },
  {
   "cell_type": "code",
   "execution_count": 2,
   "metadata": {},
   "outputs": [
    {
     "output_type": "execute_result",
     "data": {
      "text/plain": [
       "     year        date  country state  \\\n",
       "0  2020.0  2020-10-07  Belgium   NaN   \n",
       "1  2020.0  2020-09-17      USA    GA   \n",
       "2  2020.0  2020-09-12      USA    CA   \n",
       "3  2020.0  2020-09-06      USA    IL   \n",
       "4  2020.0  2020-09-05    China   NaN   \n",
       "\n",
       "                                         description deaths  tesla_driver  \\\n",
       "0  Driver going wrong direction hits Tesla, drive...      1           NaN   \n",
       "1  Tesla loses control and crashes into bus shelt...      1           0.0   \n",
       "2      Car lands on Tesla, other vehicle driver dies      1           0.0   \n",
       "3  Tesla runs thru red light, crashes, driver die...      1           1.0   \n",
       "4  Tesla crashes into crowd, 2 dead and several i...      2           0.0   \n",
       "\n",
       "   tesla_occupant  other_vehicle  cyclists_peds  ...  model autopilot_claimed  \\\n",
       "0             NaN            1.0            NaN  ...    NaN               NaN   \n",
       "1             0.0            0.0            1.0  ...      3               1.0   \n",
       "2             0.0            1.0            0.0  ...    NaN               0.0   \n",
       "3             0.0            0.0            0.0  ...    NaN               0.0   \n",
       "4             0.0            0.0            2.0  ...      X               0.0   \n",
       "\n",
       "   verified_tesla_autopilot_death  \\\n",
       "0                             NaN   \n",
       "1                             0.0   \n",
       "2                             0.0   \n",
       "3                             0.0   \n",
       "4                             0.0   \n",
       "\n",
       "                                              source fars_nhtsa_case_filing  \\\n",
       "0  https://www.sudinfo.be/id263566/article/2020-1...                    NaN   \n",
       "1  https://www.ajc.com/news/1-dead-after-tesla-dr...                    NaN   \n",
       "2  https://fox5sandiego.com/news/local-news/1-per...                    NaN   \n",
       "3  https://www.dailyherald.com/news/20200906/driv...                    NaN   \n",
       "4   https://www.globaltimes.cn/content/1200006.shtml                    NaN   \n",
       "\n",
       "  note deceased_1 deceased_2 deceased_3 deceased_4  \n",
       "0  NaN        NaN        NaN        NaN        NaN  \n",
       "1  NaN        NaN        NaN        NaN        NaN  \n",
       "2  NaN        NaN        NaN        NaN        NaN  \n",
       "3  NaN        NaN        NaN        NaN        NaN  \n",
       "4  NaN        NaN        NaN        NaN        NaN  \n",
       "\n",
       "[5 rows x 21 columns]"
      ],
      "text/html": "<div>\n<style scoped>\n    .dataframe tbody tr th:only-of-type {\n        vertical-align: middle;\n    }\n\n    .dataframe tbody tr th {\n        vertical-align: top;\n    }\n\n    .dataframe thead th {\n        text-align: right;\n    }\n</style>\n<table border=\"1\" class=\"dataframe\">\n  <thead>\n    <tr style=\"text-align: right;\">\n      <th></th>\n      <th>year</th>\n      <th>date</th>\n      <th>country</th>\n      <th>state</th>\n      <th>description</th>\n      <th>deaths</th>\n      <th>tesla_driver</th>\n      <th>tesla_occupant</th>\n      <th>other_vehicle</th>\n      <th>cyclists_peds</th>\n      <th>...</th>\n      <th>model</th>\n      <th>autopilot_claimed</th>\n      <th>verified_tesla_autopilot_death</th>\n      <th>source</th>\n      <th>fars_nhtsa_case_filing</th>\n      <th>note</th>\n      <th>deceased_1</th>\n      <th>deceased_2</th>\n      <th>deceased_3</th>\n      <th>deceased_4</th>\n    </tr>\n  </thead>\n  <tbody>\n    <tr>\n      <th>0</th>\n      <td>2020.0</td>\n      <td>2020-10-07</td>\n      <td>Belgium</td>\n      <td>NaN</td>\n      <td>Driver going wrong direction hits Tesla, drive...</td>\n      <td>1</td>\n      <td>NaN</td>\n      <td>NaN</td>\n      <td>1.0</td>\n      <td>NaN</td>\n      <td>...</td>\n      <td>NaN</td>\n      <td>NaN</td>\n      <td>NaN</td>\n      <td>https://www.sudinfo.be/id263566/article/2020-1...</td>\n      <td>NaN</td>\n      <td>NaN</td>\n      <td>NaN</td>\n      <td>NaN</td>\n      <td>NaN</td>\n      <td>NaN</td>\n    </tr>\n    <tr>\n      <th>1</th>\n      <td>2020.0</td>\n      <td>2020-09-17</td>\n      <td>USA</td>\n      <td>GA</td>\n      <td>Tesla loses control and crashes into bus shelt...</td>\n      <td>1</td>\n      <td>0.0</td>\n      <td>0.0</td>\n      <td>0.0</td>\n      <td>1.0</td>\n      <td>...</td>\n      <td>3</td>\n      <td>1.0</td>\n      <td>0.0</td>\n      <td>https://www.ajc.com/news/1-dead-after-tesla-dr...</td>\n      <td>NaN</td>\n      <td>NaN</td>\n      <td>NaN</td>\n      <td>NaN</td>\n      <td>NaN</td>\n      <td>NaN</td>\n    </tr>\n    <tr>\n      <th>2</th>\n      <td>2020.0</td>\n      <td>2020-09-12</td>\n      <td>USA</td>\n      <td>CA</td>\n      <td>Car lands on Tesla, other vehicle driver dies</td>\n      <td>1</td>\n      <td>0.0</td>\n      <td>0.0</td>\n      <td>1.0</td>\n      <td>0.0</td>\n      <td>...</td>\n      <td>NaN</td>\n      <td>0.0</td>\n      <td>0.0</td>\n      <td>https://fox5sandiego.com/news/local-news/1-per...</td>\n      <td>NaN</td>\n      <td>NaN</td>\n      <td>NaN</td>\n      <td>NaN</td>\n      <td>NaN</td>\n      <td>NaN</td>\n    </tr>\n    <tr>\n      <th>3</th>\n      <td>2020.0</td>\n      <td>2020-09-06</td>\n      <td>USA</td>\n      <td>IL</td>\n      <td>Tesla runs thru red light, crashes, driver die...</td>\n      <td>1</td>\n      <td>1.0</td>\n      <td>0.0</td>\n      <td>0.0</td>\n      <td>0.0</td>\n      <td>...</td>\n      <td>NaN</td>\n      <td>0.0</td>\n      <td>0.0</td>\n      <td>https://www.dailyherald.com/news/20200906/driv...</td>\n      <td>NaN</td>\n      <td>NaN</td>\n      <td>NaN</td>\n      <td>NaN</td>\n      <td>NaN</td>\n      <td>NaN</td>\n    </tr>\n    <tr>\n      <th>4</th>\n      <td>2020.0</td>\n      <td>2020-09-05</td>\n      <td>China</td>\n      <td>NaN</td>\n      <td>Tesla crashes into crowd, 2 dead and several i...</td>\n      <td>2</td>\n      <td>0.0</td>\n      <td>0.0</td>\n      <td>0.0</td>\n      <td>2.0</td>\n      <td>...</td>\n      <td>X</td>\n      <td>0.0</td>\n      <td>0.0</td>\n      <td>https://www.globaltimes.cn/content/1200006.shtml</td>\n      <td>NaN</td>\n      <td>NaN</td>\n      <td>NaN</td>\n      <td>NaN</td>\n      <td>NaN</td>\n      <td>NaN</td>\n    </tr>\n  </tbody>\n</table>\n<p>5 rows × 21 columns</p>\n</div>"
     },
     "metadata": {},
     "execution_count": 2
    }
   ],
   "source": [
    "deaths_file = \"Resources/TeslaAutoDeathsData-tesla-deaths.csv\"\n",
    "tesla_deaths_df = pd.read_csv(deaths_file)\n",
    "tesla_deaths_df.head()"
   ]
  },
  {
   "cell_type": "code",
   "execution_count": 3,
   "metadata": {},
   "outputs": [
    {
     "output_type": "execute_result",
     "data": {
      "text/plain": [
       "         Date       Open   High        Low      Close  Adj Close    Volume\n",
       "0  2010-06-29  19.000000  25.00  17.540001  23.889999  23.889999  18766300\n",
       "1  2010-06-30  25.790001  30.42  23.299999  23.830000  23.830000  17187100\n",
       "2  2010-07-01  25.000000  25.92  20.270000  21.959999  21.959999   8218800\n",
       "3  2010-07-02  23.000000  23.10  18.709999  19.200001  19.200001   5139800\n",
       "4  2010-07-06  20.000000  20.00  15.830000  16.110001  16.110001   6866900"
      ],
      "text/html": "<div>\n<style scoped>\n    .dataframe tbody tr th:only-of-type {\n        vertical-align: middle;\n    }\n\n    .dataframe tbody tr th {\n        vertical-align: top;\n    }\n\n    .dataframe thead th {\n        text-align: right;\n    }\n</style>\n<table border=\"1\" class=\"dataframe\">\n  <thead>\n    <tr style=\"text-align: right;\">\n      <th></th>\n      <th>Date</th>\n      <th>Open</th>\n      <th>High</th>\n      <th>Low</th>\n      <th>Close</th>\n      <th>Adj Close</th>\n      <th>Volume</th>\n    </tr>\n  </thead>\n  <tbody>\n    <tr>\n      <th>0</th>\n      <td>2010-06-29</td>\n      <td>19.000000</td>\n      <td>25.00</td>\n      <td>17.540001</td>\n      <td>23.889999</td>\n      <td>23.889999</td>\n      <td>18766300</td>\n    </tr>\n    <tr>\n      <th>1</th>\n      <td>2010-06-30</td>\n      <td>25.790001</td>\n      <td>30.42</td>\n      <td>23.299999</td>\n      <td>23.830000</td>\n      <td>23.830000</td>\n      <td>17187100</td>\n    </tr>\n    <tr>\n      <th>2</th>\n      <td>2010-07-01</td>\n      <td>25.000000</td>\n      <td>25.92</td>\n      <td>20.270000</td>\n      <td>21.959999</td>\n      <td>21.959999</td>\n      <td>8218800</td>\n    </tr>\n    <tr>\n      <th>3</th>\n      <td>2010-07-02</td>\n      <td>23.000000</td>\n      <td>23.10</td>\n      <td>18.709999</td>\n      <td>19.200001</td>\n      <td>19.200001</td>\n      <td>5139800</td>\n    </tr>\n    <tr>\n      <th>4</th>\n      <td>2010-07-06</td>\n      <td>20.000000</td>\n      <td>20.00</td>\n      <td>15.830000</td>\n      <td>16.110001</td>\n      <td>16.110001</td>\n      <td>6866900</td>\n    </tr>\n  </tbody>\n</table>\n</div>"
     },
     "metadata": {},
     "execution_count": 3
    }
   ],
   "source": [
    "stocks_file = \"Resources/TSLA-StockDatafrom2010to2020.csv\"\n",
    "tesla_stocks_df = pd.read_csv(stocks_file)\n",
    "tesla_stocks_df.head()"
   ]
  },
  {
   "cell_type": "code",
   "execution_count": 4,
   "metadata": {},
   "outputs": [
    {
     "output_type": "execute_result",
     "data": {
      "text/plain": [
       "         date       open   high        low      close  adj_close    volume\n",
       "0  2010-06-29  19.000000  25.00  17.540001  23.889999  23.889999  18766300\n",
       "1  2010-06-30  25.790001  30.42  23.299999  23.830000  23.830000  17187100\n",
       "2  2010-07-01  25.000000  25.92  20.270000  21.959999  21.959999   8218800\n",
       "3  2010-07-02  23.000000  23.10  18.709999  19.200001  19.200001   5139800\n",
       "4  2010-07-06  20.000000  20.00  15.830000  16.110001  16.110001   6866900"
      ],
      "text/html": "<div>\n<style scoped>\n    .dataframe tbody tr th:only-of-type {\n        vertical-align: middle;\n    }\n\n    .dataframe tbody tr th {\n        vertical-align: top;\n    }\n\n    .dataframe thead th {\n        text-align: right;\n    }\n</style>\n<table border=\"1\" class=\"dataframe\">\n  <thead>\n    <tr style=\"text-align: right;\">\n      <th></th>\n      <th>date</th>\n      <th>open</th>\n      <th>high</th>\n      <th>low</th>\n      <th>close</th>\n      <th>adj_close</th>\n      <th>volume</th>\n    </tr>\n  </thead>\n  <tbody>\n    <tr>\n      <th>0</th>\n      <td>2010-06-29</td>\n      <td>19.000000</td>\n      <td>25.00</td>\n      <td>17.540001</td>\n      <td>23.889999</td>\n      <td>23.889999</td>\n      <td>18766300</td>\n    </tr>\n    <tr>\n      <th>1</th>\n      <td>2010-06-30</td>\n      <td>25.790001</td>\n      <td>30.42</td>\n      <td>23.299999</td>\n      <td>23.830000</td>\n      <td>23.830000</td>\n      <td>17187100</td>\n    </tr>\n    <tr>\n      <th>2</th>\n      <td>2010-07-01</td>\n      <td>25.000000</td>\n      <td>25.92</td>\n      <td>20.270000</td>\n      <td>21.959999</td>\n      <td>21.959999</td>\n      <td>8218800</td>\n    </tr>\n    <tr>\n      <th>3</th>\n      <td>2010-07-02</td>\n      <td>23.000000</td>\n      <td>23.10</td>\n      <td>18.709999</td>\n      <td>19.200001</td>\n      <td>19.200001</td>\n      <td>5139800</td>\n    </tr>\n    <tr>\n      <th>4</th>\n      <td>2010-07-06</td>\n      <td>20.000000</td>\n      <td>20.00</td>\n      <td>15.830000</td>\n      <td>16.110001</td>\n      <td>16.110001</td>\n      <td>6866900</td>\n    </tr>\n  </tbody>\n</table>\n</div>"
     },
     "metadata": {},
     "execution_count": 4
    }
   ],
   "source": [
    "tesla_stocks_df = tesla_stocks_df.rename(columns={\"Date\": \"date\", \"Open\": \"open\", \"High\": \"high\", \n",
    "                                \"Low\": \"low\", \"Close\": \"close\", \"Adj Close\": \"adj_close\", \"Volume\": \"volume\"\n",
    "                               })\n",
    "tesla_stocks_df.head()"
   ]
  },
  {
   "cell_type": "code",
   "execution_count": 5,
   "metadata": {},
   "outputs": [
    {
     "output_type": "execute_result",
     "data": {
      "text/plain": [
       "           date        open        high         low       close   adj_close  \\\n",
       "0    2013-01-02   35.000000   35.450001   34.709999   35.360001   35.360001   \n",
       "1    2013-01-03   35.180000   35.450001   34.750000   34.770000   34.770000   \n",
       "2    2013-01-04   34.799999   34.799999   33.919998   34.400002   34.400002   \n",
       "3    2013-01-07   34.799999   34.799999   33.900002   34.340000   34.340000   \n",
       "4    2013-01-08   34.500000   34.500000   33.110001   33.680000   33.680000   \n",
       "...         ...         ...         ...         ...         ...         ...   \n",
       "1779 2020-01-28  568.489990  576.809998  558.080017  566.900024  566.900024   \n",
       "1780 2020-01-29  575.690002  589.799988  567.429993  580.989990  580.989990   \n",
       "1781 2020-01-30  632.419983  650.880005  618.000000  640.809998  640.809998   \n",
       "1782 2020-01-31  640.000000  653.000000  632.520020  650.570007  650.570007   \n",
       "1783 2020-02-03  673.690002  786.140015  673.520020  780.000000  780.000000   \n",
       "\n",
       "        volume  \n",
       "0      1194800  \n",
       "1       742000  \n",
       "2       674000  \n",
       "3       442000  \n",
       "4      1284000  \n",
       "...        ...  \n",
       "1779  11788500  \n",
       "1780  17801500  \n",
       "1781  29005700  \n",
       "1782  15719300  \n",
       "1783  47065000  \n",
       "\n",
       "[1784 rows x 7 columns]"
      ],
      "text/html": "<div>\n<style scoped>\n    .dataframe tbody tr th:only-of-type {\n        vertical-align: middle;\n    }\n\n    .dataframe tbody tr th {\n        vertical-align: top;\n    }\n\n    .dataframe thead th {\n        text-align: right;\n    }\n</style>\n<table border=\"1\" class=\"dataframe\">\n  <thead>\n    <tr style=\"text-align: right;\">\n      <th></th>\n      <th>date</th>\n      <th>open</th>\n      <th>high</th>\n      <th>low</th>\n      <th>close</th>\n      <th>adj_close</th>\n      <th>volume</th>\n    </tr>\n  </thead>\n  <tbody>\n    <tr>\n      <th>0</th>\n      <td>2013-01-02</td>\n      <td>35.000000</td>\n      <td>35.450001</td>\n      <td>34.709999</td>\n      <td>35.360001</td>\n      <td>35.360001</td>\n      <td>1194800</td>\n    </tr>\n    <tr>\n      <th>1</th>\n      <td>2013-01-03</td>\n      <td>35.180000</td>\n      <td>35.450001</td>\n      <td>34.750000</td>\n      <td>34.770000</td>\n      <td>34.770000</td>\n      <td>742000</td>\n    </tr>\n    <tr>\n      <th>2</th>\n      <td>2013-01-04</td>\n      <td>34.799999</td>\n      <td>34.799999</td>\n      <td>33.919998</td>\n      <td>34.400002</td>\n      <td>34.400002</td>\n      <td>674000</td>\n    </tr>\n    <tr>\n      <th>3</th>\n      <td>2013-01-07</td>\n      <td>34.799999</td>\n      <td>34.799999</td>\n      <td>33.900002</td>\n      <td>34.340000</td>\n      <td>34.340000</td>\n      <td>442000</td>\n    </tr>\n    <tr>\n      <th>4</th>\n      <td>2013-01-08</td>\n      <td>34.500000</td>\n      <td>34.500000</td>\n      <td>33.110001</td>\n      <td>33.680000</td>\n      <td>33.680000</td>\n      <td>1284000</td>\n    </tr>\n    <tr>\n      <th>...</th>\n      <td>...</td>\n      <td>...</td>\n      <td>...</td>\n      <td>...</td>\n      <td>...</td>\n      <td>...</td>\n      <td>...</td>\n    </tr>\n    <tr>\n      <th>1779</th>\n      <td>2020-01-28</td>\n      <td>568.489990</td>\n      <td>576.809998</td>\n      <td>558.080017</td>\n      <td>566.900024</td>\n      <td>566.900024</td>\n      <td>11788500</td>\n    </tr>\n    <tr>\n      <th>1780</th>\n      <td>2020-01-29</td>\n      <td>575.690002</td>\n      <td>589.799988</td>\n      <td>567.429993</td>\n      <td>580.989990</td>\n      <td>580.989990</td>\n      <td>17801500</td>\n    </tr>\n    <tr>\n      <th>1781</th>\n      <td>2020-01-30</td>\n      <td>632.419983</td>\n      <td>650.880005</td>\n      <td>618.000000</td>\n      <td>640.809998</td>\n      <td>640.809998</td>\n      <td>29005700</td>\n    </tr>\n    <tr>\n      <th>1782</th>\n      <td>2020-01-31</td>\n      <td>640.000000</td>\n      <td>653.000000</td>\n      <td>632.520020</td>\n      <td>650.570007</td>\n      <td>650.570007</td>\n      <td>15719300</td>\n    </tr>\n    <tr>\n      <th>1783</th>\n      <td>2020-02-03</td>\n      <td>673.690002</td>\n      <td>786.140015</td>\n      <td>673.520020</td>\n      <td>780.000000</td>\n      <td>780.000000</td>\n      <td>47065000</td>\n    </tr>\n  </tbody>\n</table>\n<p>1784 rows × 7 columns</p>\n</div>"
     },
     "metadata": {},
     "execution_count": 5
    }
   ],
   "source": [
    "#Clean the Stocks & Drop Years 2010-2012 from DB\n",
    "tesla_stocks_df['date'] = pd.to_datetime(tesla_stocks_df['date'])\n",
    "\n",
    "start_date = '01-01-2013'\n",
    "end_date = '12-31-2020'\n",
    "\n",
    "mask1 = (tesla_stocks_df['date'] > start_date) & (tesla_stocks_df['date'] <= end_date)\n",
    "\n",
    "tesla_stocks = tesla_stocks_df.loc[mask1].reset_index(drop=True)\n",
    "\n",
    "\n",
    "\n",
    "tesla_stocks"
   ]
  },
  {
   "cell_type": "code",
   "execution_count": 6,
   "metadata": {},
   "outputs": [
    {
     "output_type": "execute_result",
     "data": {
      "text/plain": [
       "       Unnamed: 0                   id      conversation_id    created_at  \\\n",
       "11716       11716          15434727182          15434727182  1.275676e+12   \n",
       "11715       11715   142179928203460608   142179928203460608  1.322733e+12   \n",
       "11714       11714   142188458125963264   142188458125963264  1.322735e+12   \n",
       "11713       11713   142880871391838208   142880871391838208  1.322900e+12   \n",
       "11712       11712   142881284019060736   142881284019060736  1.322901e+12   \n",
       "...           ...                  ...                  ...           ...   \n",
       "4               4  1343431408052662273  1343043963096326147  1.609134e+12   \n",
       "3               3  1343608530998153222  1343320495127633920  1.609176e+12   \n",
       "2               2  1343608616960491521  1343576442722893825  1.609176e+12   \n",
       "1               1  1343619610617077760  1343386617294295040  1.609179e+12   \n",
       "0               0  1343644462036086785  1343320495127633920  1.609185e+12   \n",
       "\n",
       "                      date  timezone  place  \\\n",
       "11716  2010-06-04 18:31:57         0    NaN   \n",
       "11715  2011-12-01 09:55:11         0    NaN   \n",
       "11714  2011-12-01 10:29:04         0    NaN   \n",
       "11713  2011-12-03 08:20:28         0    NaN   \n",
       "11712  2011-12-03 08:22:07         0    NaN   \n",
       "...                    ...       ...    ...   \n",
       "4      2020-12-28 05:39:42         0    NaN   \n",
       "3      2020-12-28 17:23:31         0    NaN   \n",
       "2      2020-12-28 17:23:51         0    NaN   \n",
       "1      2020-12-28 18:07:33         0    NaN   \n",
       "0      2020-12-28 19:46:18         0    NaN   \n",
       "\n",
       "                                                   tweet language hashtags  \\\n",
       "11716  Please ignore prior tweets, as that was someon...       en       []   \n",
       "11715  Went to Iceland on Sat to ride bumper cars on ...       en       []   \n",
       "11714  I made the volume on the Model S  http://t.co/...       en       []   \n",
       "11713  Great Voltaire quote, arguably better than Twa...       en       []   \n",
       "11712                  That was a total non sequitur btw       en       []   \n",
       "...                                                  ...      ...      ...   \n",
       "4                              @PPathole @WSJ Absolutely       en       []   \n",
       "3      What should Tesla do with in-car gaming in an ...       en       []   \n",
       "2                            @richierichhhhh_ Absolutely       en       []   \n",
       "1      @kimpaquette Just meeting with Larry Ellison t...       en       []   \n",
       "0      Entertainment will be critical when cars drive...       en       []   \n",
       "\n",
       "       ... geo  source  user_rt_id user_rt retweet_id  \\\n",
       "11716  ... NaN     NaN         NaN     NaN        NaN   \n",
       "11715  ... NaN     NaN         NaN     NaN        NaN   \n",
       "11714  ... NaN     NaN         NaN     NaN        NaN   \n",
       "11713  ... NaN     NaN         NaN     NaN        NaN   \n",
       "11712  ... NaN     NaN         NaN     NaN        NaN   \n",
       "...    ...  ..     ...         ...     ...        ...   \n",
       "4      ... NaN     NaN         NaN     NaN        NaN   \n",
       "3      ... NaN     NaN         NaN     NaN        NaN   \n",
       "2      ... NaN     NaN         NaN     NaN        NaN   \n",
       "1      ... NaN     NaN         NaN     NaN        NaN   \n",
       "0      ... NaN     NaN         NaN     NaN        NaN   \n",
       "\n",
       "                                                reply_to  retweet_date  \\\n",
       "11716                                                 []           NaN   \n",
       "11715                                                 []           NaN   \n",
       "11714                                                 []           NaN   \n",
       "11713                                                 []           NaN   \n",
       "11712                                                 []           NaN   \n",
       "...                                                  ...           ...   \n",
       "4      [{'screen_name': 'PPathole', 'name': 'Pranay P...           NaN   \n",
       "3                                                     []           NaN   \n",
       "2      [{'screen_name': 'richierichhhhh_', 'name': 'R...           NaN   \n",
       "1      [{'screen_name': 'kimpaquette', 'name': 'Kim P...           NaN   \n",
       "0                                                     []           NaN   \n",
       "\n",
       "      translate trans_src trans_dest  \n",
       "11716       NaN       NaN        NaN  \n",
       "11715       NaN       NaN        NaN  \n",
       "11714       NaN       NaN        NaN  \n",
       "11713       NaN       NaN        NaN  \n",
       "11712       NaN       NaN        NaN  \n",
       "...         ...       ...        ...  \n",
       "4           NaN       NaN        NaN  \n",
       "3           NaN       NaN        NaN  \n",
       "2           NaN       NaN        NaN  \n",
       "1           NaN       NaN        NaN  \n",
       "0           NaN       NaN        NaN  \n",
       "\n",
       "[11717 rows x 39 columns]"
      ],
      "text/html": "<div>\n<style scoped>\n    .dataframe tbody tr th:only-of-type {\n        vertical-align: middle;\n    }\n\n    .dataframe tbody tr th {\n        vertical-align: top;\n    }\n\n    .dataframe thead th {\n        text-align: right;\n    }\n</style>\n<table border=\"1\" class=\"dataframe\">\n  <thead>\n    <tr style=\"text-align: right;\">\n      <th></th>\n      <th>Unnamed: 0</th>\n      <th>id</th>\n      <th>conversation_id</th>\n      <th>created_at</th>\n      <th>date</th>\n      <th>timezone</th>\n      <th>place</th>\n      <th>tweet</th>\n      <th>language</th>\n      <th>hashtags</th>\n      <th>...</th>\n      <th>geo</th>\n      <th>source</th>\n      <th>user_rt_id</th>\n      <th>user_rt</th>\n      <th>retweet_id</th>\n      <th>reply_to</th>\n      <th>retweet_date</th>\n      <th>translate</th>\n      <th>trans_src</th>\n      <th>trans_dest</th>\n    </tr>\n  </thead>\n  <tbody>\n    <tr>\n      <th>11716</th>\n      <td>11716</td>\n      <td>15434727182</td>\n      <td>15434727182</td>\n      <td>1.275676e+12</td>\n      <td>2010-06-04 18:31:57</td>\n      <td>0</td>\n      <td>NaN</td>\n      <td>Please ignore prior tweets, as that was someon...</td>\n      <td>en</td>\n      <td>[]</td>\n      <td>...</td>\n      <td>NaN</td>\n      <td>NaN</td>\n      <td>NaN</td>\n      <td>NaN</td>\n      <td>NaN</td>\n      <td>[]</td>\n      <td>NaN</td>\n      <td>NaN</td>\n      <td>NaN</td>\n      <td>NaN</td>\n    </tr>\n    <tr>\n      <th>11715</th>\n      <td>11715</td>\n      <td>142179928203460608</td>\n      <td>142179928203460608</td>\n      <td>1.322733e+12</td>\n      <td>2011-12-01 09:55:11</td>\n      <td>0</td>\n      <td>NaN</td>\n      <td>Went to Iceland on Sat to ride bumper cars on ...</td>\n      <td>en</td>\n      <td>[]</td>\n      <td>...</td>\n      <td>NaN</td>\n      <td>NaN</td>\n      <td>NaN</td>\n      <td>NaN</td>\n      <td>NaN</td>\n      <td>[]</td>\n      <td>NaN</td>\n      <td>NaN</td>\n      <td>NaN</td>\n      <td>NaN</td>\n    </tr>\n    <tr>\n      <th>11714</th>\n      <td>11714</td>\n      <td>142188458125963264</td>\n      <td>142188458125963264</td>\n      <td>1.322735e+12</td>\n      <td>2011-12-01 10:29:04</td>\n      <td>0</td>\n      <td>NaN</td>\n      <td>I made the volume on the Model S  http://t.co/...</td>\n      <td>en</td>\n      <td>[]</td>\n      <td>...</td>\n      <td>NaN</td>\n      <td>NaN</td>\n      <td>NaN</td>\n      <td>NaN</td>\n      <td>NaN</td>\n      <td>[]</td>\n      <td>NaN</td>\n      <td>NaN</td>\n      <td>NaN</td>\n      <td>NaN</td>\n    </tr>\n    <tr>\n      <th>11713</th>\n      <td>11713</td>\n      <td>142880871391838208</td>\n      <td>142880871391838208</td>\n      <td>1.322900e+12</td>\n      <td>2011-12-03 08:20:28</td>\n      <td>0</td>\n      <td>NaN</td>\n      <td>Great Voltaire quote, arguably better than Twa...</td>\n      <td>en</td>\n      <td>[]</td>\n      <td>...</td>\n      <td>NaN</td>\n      <td>NaN</td>\n      <td>NaN</td>\n      <td>NaN</td>\n      <td>NaN</td>\n      <td>[]</td>\n      <td>NaN</td>\n      <td>NaN</td>\n      <td>NaN</td>\n      <td>NaN</td>\n    </tr>\n    <tr>\n      <th>11712</th>\n      <td>11712</td>\n      <td>142881284019060736</td>\n      <td>142881284019060736</td>\n      <td>1.322901e+12</td>\n      <td>2011-12-03 08:22:07</td>\n      <td>0</td>\n      <td>NaN</td>\n      <td>That was a total non sequitur btw</td>\n      <td>en</td>\n      <td>[]</td>\n      <td>...</td>\n      <td>NaN</td>\n      <td>NaN</td>\n      <td>NaN</td>\n      <td>NaN</td>\n      <td>NaN</td>\n      <td>[]</td>\n      <td>NaN</td>\n      <td>NaN</td>\n      <td>NaN</td>\n      <td>NaN</td>\n    </tr>\n    <tr>\n      <th>...</th>\n      <td>...</td>\n      <td>...</td>\n      <td>...</td>\n      <td>...</td>\n      <td>...</td>\n      <td>...</td>\n      <td>...</td>\n      <td>...</td>\n      <td>...</td>\n      <td>...</td>\n      <td>...</td>\n      <td>...</td>\n      <td>...</td>\n      <td>...</td>\n      <td>...</td>\n      <td>...</td>\n      <td>...</td>\n      <td>...</td>\n      <td>...</td>\n      <td>...</td>\n      <td>...</td>\n    </tr>\n    <tr>\n      <th>4</th>\n      <td>4</td>\n      <td>1343431408052662273</td>\n      <td>1343043963096326147</td>\n      <td>1.609134e+12</td>\n      <td>2020-12-28 05:39:42</td>\n      <td>0</td>\n      <td>NaN</td>\n      <td>@PPathole @WSJ Absolutely</td>\n      <td>en</td>\n      <td>[]</td>\n      <td>...</td>\n      <td>NaN</td>\n      <td>NaN</td>\n      <td>NaN</td>\n      <td>NaN</td>\n      <td>NaN</td>\n      <td>[{'screen_name': 'PPathole', 'name': 'Pranay P...</td>\n      <td>NaN</td>\n      <td>NaN</td>\n      <td>NaN</td>\n      <td>NaN</td>\n    </tr>\n    <tr>\n      <th>3</th>\n      <td>3</td>\n      <td>1343608530998153222</td>\n      <td>1343320495127633920</td>\n      <td>1.609176e+12</td>\n      <td>2020-12-28 17:23:31</td>\n      <td>0</td>\n      <td>NaN</td>\n      <td>What should Tesla do with in-car gaming in an ...</td>\n      <td>en</td>\n      <td>[]</td>\n      <td>...</td>\n      <td>NaN</td>\n      <td>NaN</td>\n      <td>NaN</td>\n      <td>NaN</td>\n      <td>NaN</td>\n      <td>[]</td>\n      <td>NaN</td>\n      <td>NaN</td>\n      <td>NaN</td>\n      <td>NaN</td>\n    </tr>\n    <tr>\n      <th>2</th>\n      <td>2</td>\n      <td>1343608616960491521</td>\n      <td>1343576442722893825</td>\n      <td>1.609176e+12</td>\n      <td>2020-12-28 17:23:51</td>\n      <td>0</td>\n      <td>NaN</td>\n      <td>@richierichhhhh_ Absolutely</td>\n      <td>en</td>\n      <td>[]</td>\n      <td>...</td>\n      <td>NaN</td>\n      <td>NaN</td>\n      <td>NaN</td>\n      <td>NaN</td>\n      <td>NaN</td>\n      <td>[{'screen_name': 'richierichhhhh_', 'name': 'R...</td>\n      <td>NaN</td>\n      <td>NaN</td>\n      <td>NaN</td>\n      <td>NaN</td>\n    </tr>\n    <tr>\n      <th>1</th>\n      <td>1</td>\n      <td>1343619610617077760</td>\n      <td>1343386617294295040</td>\n      <td>1.609179e+12</td>\n      <td>2020-12-28 18:07:33</td>\n      <td>0</td>\n      <td>NaN</td>\n      <td>@kimpaquette Just meeting with Larry Ellison t...</td>\n      <td>en</td>\n      <td>[]</td>\n      <td>...</td>\n      <td>NaN</td>\n      <td>NaN</td>\n      <td>NaN</td>\n      <td>NaN</td>\n      <td>NaN</td>\n      <td>[{'screen_name': 'kimpaquette', 'name': 'Kim P...</td>\n      <td>NaN</td>\n      <td>NaN</td>\n      <td>NaN</td>\n      <td>NaN</td>\n    </tr>\n    <tr>\n      <th>0</th>\n      <td>0</td>\n      <td>1343644462036086785</td>\n      <td>1343320495127633920</td>\n      <td>1.609185e+12</td>\n      <td>2020-12-28 19:46:18</td>\n      <td>0</td>\n      <td>NaN</td>\n      <td>Entertainment will be critical when cars drive...</td>\n      <td>en</td>\n      <td>[]</td>\n      <td>...</td>\n      <td>NaN</td>\n      <td>NaN</td>\n      <td>NaN</td>\n      <td>NaN</td>\n      <td>NaN</td>\n      <td>[]</td>\n      <td>NaN</td>\n      <td>NaN</td>\n      <td>NaN</td>\n      <td>NaN</td>\n    </tr>\n  </tbody>\n</table>\n<p>11717 rows × 39 columns</p>\n</div>"
     },
     "metadata": {},
     "execution_count": 6
    }
   ],
   "source": [
    "tweets_file = \"Resources/Tweets2020.csv\"\n",
    "tesla_tweets_df = pd.read_csv(tweets_file)\n",
    "tesla_tweets_df = tesla_tweets_df.sort_values('date',ascending=True)\n",
    "tesla_tweets_df"
   ]
  },
  {
   "cell_type": "code",
   "execution_count": 7,
   "metadata": {
    "scrolled": false
   },
   "outputs": [
    {
     "output_type": "execute_result",
     "data": {
      "text/plain": [
       "                        id       date  \\\n",
       "0       287033019255115777 2013-01-04   \n",
       "1       287261992476098560 2013-01-04   \n",
       "2       289281686548647936 2013-01-10   \n",
       "3       289423253859082240 2013-01-10   \n",
       "4       291332638407528448 2013-01-15   \n",
       "...                    ...        ...   \n",
       "11397  1343431408052662273 2020-12-28   \n",
       "11398  1343608530998153222 2020-12-28   \n",
       "11399  1343608616960491521 2020-12-28   \n",
       "11400  1343619610617077760 2020-12-28   \n",
       "11401  1343644462036086785 2020-12-28   \n",
       "\n",
       "                                                   tweet  username  nlikes  \\\n",
       "0      This gives a sense of what Mars would look lik...  elonmusk     155   \n",
       "1      Nice story about a Model S coast to coast road...  elonmusk      63   \n",
       "2      Also, I am not the kale eating overlord of Mar...  elonmusk      58   \n",
       "3      To be super clear, I don't wish to (nor could ...  elonmusk      85   \n",
       "4      What it feels like to ride a rocket   http://t...  elonmusk     119   \n",
       "...                                                  ...       ...     ...   \n",
       "11397                          @PPathole @WSJ Absolutely  elonmusk    2394   \n",
       "11398  What should Tesla do with in-car gaming in an ...  elonmusk   33830   \n",
       "11399                        @richierichhhhh_ Absolutely  elonmusk   72434   \n",
       "11400  @kimpaquette Just meeting with Larry Ellison t...  elonmusk    8631   \n",
       "11401  Entertainment will be critical when cars drive...  elonmusk   55085   \n",
       "\n",
       "       nreplies  nretweets  \n",
       "0            34        291  \n",
       "1            31        147  \n",
       "2            44         60  \n",
       "3            61        176  \n",
       "4            41        169  \n",
       "...         ...        ...  \n",
       "11397       131         92  \n",
       "11398      6932        884  \n",
       "11399       495        907  \n",
       "11400       601        314  \n",
       "11401      2922       2611  \n",
       "\n",
       "[11402 rows x 7 columns]"
      ],
      "text/html": "<div>\n<style scoped>\n    .dataframe tbody tr th:only-of-type {\n        vertical-align: middle;\n    }\n\n    .dataframe tbody tr th {\n        vertical-align: top;\n    }\n\n    .dataframe thead th {\n        text-align: right;\n    }\n</style>\n<table border=\"1\" class=\"dataframe\">\n  <thead>\n    <tr style=\"text-align: right;\">\n      <th></th>\n      <th>id</th>\n      <th>date</th>\n      <th>tweet</th>\n      <th>username</th>\n      <th>nlikes</th>\n      <th>nreplies</th>\n      <th>nretweets</th>\n    </tr>\n  </thead>\n  <tbody>\n    <tr>\n      <th>0</th>\n      <td>287033019255115777</td>\n      <td>2013-01-04</td>\n      <td>This gives a sense of what Mars would look lik...</td>\n      <td>elonmusk</td>\n      <td>155</td>\n      <td>34</td>\n      <td>291</td>\n    </tr>\n    <tr>\n      <th>1</th>\n      <td>287261992476098560</td>\n      <td>2013-01-04</td>\n      <td>Nice story about a Model S coast to coast road...</td>\n      <td>elonmusk</td>\n      <td>63</td>\n      <td>31</td>\n      <td>147</td>\n    </tr>\n    <tr>\n      <th>2</th>\n      <td>289281686548647936</td>\n      <td>2013-01-10</td>\n      <td>Also, I am not the kale eating overlord of Mar...</td>\n      <td>elonmusk</td>\n      <td>58</td>\n      <td>44</td>\n      <td>60</td>\n    </tr>\n    <tr>\n      <th>3</th>\n      <td>289423253859082240</td>\n      <td>2013-01-10</td>\n      <td>To be super clear, I don't wish to (nor could ...</td>\n      <td>elonmusk</td>\n      <td>85</td>\n      <td>61</td>\n      <td>176</td>\n    </tr>\n    <tr>\n      <th>4</th>\n      <td>291332638407528448</td>\n      <td>2013-01-15</td>\n      <td>What it feels like to ride a rocket   http://t...</td>\n      <td>elonmusk</td>\n      <td>119</td>\n      <td>41</td>\n      <td>169</td>\n    </tr>\n    <tr>\n      <th>...</th>\n      <td>...</td>\n      <td>...</td>\n      <td>...</td>\n      <td>...</td>\n      <td>...</td>\n      <td>...</td>\n      <td>...</td>\n    </tr>\n    <tr>\n      <th>11397</th>\n      <td>1343431408052662273</td>\n      <td>2020-12-28</td>\n      <td>@PPathole @WSJ Absolutely</td>\n      <td>elonmusk</td>\n      <td>2394</td>\n      <td>131</td>\n      <td>92</td>\n    </tr>\n    <tr>\n      <th>11398</th>\n      <td>1343608530998153222</td>\n      <td>2020-12-28</td>\n      <td>What should Tesla do with in-car gaming in an ...</td>\n      <td>elonmusk</td>\n      <td>33830</td>\n      <td>6932</td>\n      <td>884</td>\n    </tr>\n    <tr>\n      <th>11399</th>\n      <td>1343608616960491521</td>\n      <td>2020-12-28</td>\n      <td>@richierichhhhh_ Absolutely</td>\n      <td>elonmusk</td>\n      <td>72434</td>\n      <td>495</td>\n      <td>907</td>\n    </tr>\n    <tr>\n      <th>11400</th>\n      <td>1343619610617077760</td>\n      <td>2020-12-28</td>\n      <td>@kimpaquette Just meeting with Larry Ellison t...</td>\n      <td>elonmusk</td>\n      <td>8631</td>\n      <td>601</td>\n      <td>314</td>\n    </tr>\n    <tr>\n      <th>11401</th>\n      <td>1343644462036086785</td>\n      <td>2020-12-28</td>\n      <td>Entertainment will be critical when cars drive...</td>\n      <td>elonmusk</td>\n      <td>55085</td>\n      <td>2922</td>\n      <td>2611</td>\n    </tr>\n  </tbody>\n</table>\n<p>11402 rows × 7 columns</p>\n</div>"
     },
     "metadata": {},
     "execution_count": 7
    }
   ],
   "source": [
    "#Clean the Tweets\n",
    "tesla_tweets = tesla_tweets_df[['id', 'date', 'tweet', 'username', 'nlikes', 'nreplies', \n",
    "                                'nretweets']].reset_index(drop=True)\n",
    "\n",
    "tesla_tweets['date'] = pd.to_datetime(tesla_tweets['date']).dt.date\n",
    "\n",
    "#tesla_tweets_dropped = tesla_tweets.dropna()\n",
    "#Checked for null values. None found\n",
    "\n",
    "tesla_tweets['date'] = pd.to_datetime(tesla_tweets['date'])\n",
    "\n",
    "start_date = '01-01-2013'\n",
    "end_date = '12-31-2020'\n",
    "\n",
    "mask = (tesla_tweets['date'] > start_date) & (tesla_tweets['date'] <= end_date)\n",
    "\n",
    "tesla_tweets = tesla_tweets.loc[mask].reset_index(drop=True)\n",
    "\n",
    "tesla_tweets"
   ]
  },
  {
   "cell_type": "code",
   "execution_count": 11,
   "metadata": {},
   "outputs": [
    {
     "output_type": "execute_result",
     "data": {
      "text/plain": [
       "           date  country                                        description  \\\n",
       "1    2020-09-17      USA  Tesla loses control and crashes into bus shelt...   \n",
       "2    2020-09-12      USA      Car lands on Tesla, other vehicle driver dies   \n",
       "3    2020-09-06      USA  Tesla runs thru red light, crashes, driver die...   \n",
       "4    2020-09-05    China  Tesla crashes into crowd, 2 dead and several i...   \n",
       "6    2020-08-13  Germany                            Tesla crashes into tree   \n",
       "..          ...      ...                                                ...   \n",
       "127  2014-07-14      USA                           Tesla kills motorcyclist   \n",
       "128  2014-07-04      USA                         Thief crashes stolen Tesla   \n",
       "129  2014-07-04      USA                        Tesla rear ends stopped car   \n",
       "130  2013-11-02      USA                                Tesla kills cyclist   \n",
       "131  2013-04-02      USA                     Tesla veers into opposite lane   \n",
       "\n",
       "    deaths  tesla_driver  tesla_occupant  other_vehicle  cyclists_peds  \\\n",
       "1        1           0.0             0.0            0.0            1.0   \n",
       "2        1           0.0             0.0            1.0            0.0   \n",
       "3        1           1.0             0.0            0.0            0.0   \n",
       "4        2           0.0             0.0            0.0            2.0   \n",
       "6        1           1.0             0.0            0.0            0.0   \n",
       "..     ...           ...             ...            ...            ...   \n",
       "127      1           0.0             0.0            1.0            0.0   \n",
       "128      1           1.0             0.0            0.0            0.0   \n",
       "129      3           0.0             0.0            3.0            0.0   \n",
       "130      1           0.0             0.0            0.0            1.0   \n",
       "131      2           0.0             0.0            2.0            0.0   \n",
       "\n",
       "     tsla_cycl_peds  autopilot_claimed  verified_tesla_autopilot_death  \n",
       "1               1.0                1.0                             0.0  \n",
       "2               0.0                0.0                             0.0  \n",
       "3               1.0                0.0                             0.0  \n",
       "4               2.0                0.0                             0.0  \n",
       "6               1.0                1.0                             0.0  \n",
       "..              ...                ...                             ...  \n",
       "127             0.0                0.0                             0.0  \n",
       "128             1.0                0.0                             0.0  \n",
       "129             0.0                0.0                             0.0  \n",
       "130             1.0                0.0                             0.0  \n",
       "131             0.0                0.0                             0.0  \n",
       "\n",
       "[128 rows x 11 columns]"
      ],
      "text/html": "<div>\n<style scoped>\n    .dataframe tbody tr th:only-of-type {\n        vertical-align: middle;\n    }\n\n    .dataframe tbody tr th {\n        vertical-align: top;\n    }\n\n    .dataframe thead th {\n        text-align: right;\n    }\n</style>\n<table border=\"1\" class=\"dataframe\">\n  <thead>\n    <tr style=\"text-align: right;\">\n      <th></th>\n      <th>date</th>\n      <th>country</th>\n      <th>description</th>\n      <th>deaths</th>\n      <th>tesla_driver</th>\n      <th>tesla_occupant</th>\n      <th>other_vehicle</th>\n      <th>cyclists_peds</th>\n      <th>tsla_cycl_peds</th>\n      <th>autopilot_claimed</th>\n      <th>verified_tesla_autopilot_death</th>\n    </tr>\n  </thead>\n  <tbody>\n    <tr>\n      <th>1</th>\n      <td>2020-09-17</td>\n      <td>USA</td>\n      <td>Tesla loses control and crashes into bus shelt...</td>\n      <td>1</td>\n      <td>0.0</td>\n      <td>0.0</td>\n      <td>0.0</td>\n      <td>1.0</td>\n      <td>1.0</td>\n      <td>1.0</td>\n      <td>0.0</td>\n    </tr>\n    <tr>\n      <th>2</th>\n      <td>2020-09-12</td>\n      <td>USA</td>\n      <td>Car lands on Tesla, other vehicle driver dies</td>\n      <td>1</td>\n      <td>0.0</td>\n      <td>0.0</td>\n      <td>1.0</td>\n      <td>0.0</td>\n      <td>0.0</td>\n      <td>0.0</td>\n      <td>0.0</td>\n    </tr>\n    <tr>\n      <th>3</th>\n      <td>2020-09-06</td>\n      <td>USA</td>\n      <td>Tesla runs thru red light, crashes, driver die...</td>\n      <td>1</td>\n      <td>1.0</td>\n      <td>0.0</td>\n      <td>0.0</td>\n      <td>0.0</td>\n      <td>1.0</td>\n      <td>0.0</td>\n      <td>0.0</td>\n    </tr>\n    <tr>\n      <th>4</th>\n      <td>2020-09-05</td>\n      <td>China</td>\n      <td>Tesla crashes into crowd, 2 dead and several i...</td>\n      <td>2</td>\n      <td>0.0</td>\n      <td>0.0</td>\n      <td>0.0</td>\n      <td>2.0</td>\n      <td>2.0</td>\n      <td>0.0</td>\n      <td>0.0</td>\n    </tr>\n    <tr>\n      <th>6</th>\n      <td>2020-08-13</td>\n      <td>Germany</td>\n      <td>Tesla crashes into tree</td>\n      <td>1</td>\n      <td>1.0</td>\n      <td>0.0</td>\n      <td>0.0</td>\n      <td>0.0</td>\n      <td>1.0</td>\n      <td>1.0</td>\n      <td>0.0</td>\n    </tr>\n    <tr>\n      <th>...</th>\n      <td>...</td>\n      <td>...</td>\n      <td>...</td>\n      <td>...</td>\n      <td>...</td>\n      <td>...</td>\n      <td>...</td>\n      <td>...</td>\n      <td>...</td>\n      <td>...</td>\n      <td>...</td>\n    </tr>\n    <tr>\n      <th>127</th>\n      <td>2014-07-14</td>\n      <td>USA</td>\n      <td>Tesla kills motorcyclist</td>\n      <td>1</td>\n      <td>0.0</td>\n      <td>0.0</td>\n      <td>1.0</td>\n      <td>0.0</td>\n      <td>0.0</td>\n      <td>0.0</td>\n      <td>0.0</td>\n    </tr>\n    <tr>\n      <th>128</th>\n      <td>2014-07-04</td>\n      <td>USA</td>\n      <td>Thief crashes stolen Tesla</td>\n      <td>1</td>\n      <td>1.0</td>\n      <td>0.0</td>\n      <td>0.0</td>\n      <td>0.0</td>\n      <td>1.0</td>\n      <td>0.0</td>\n      <td>0.0</td>\n    </tr>\n    <tr>\n      <th>129</th>\n      <td>2014-07-04</td>\n      <td>USA</td>\n      <td>Tesla rear ends stopped car</td>\n      <td>3</td>\n      <td>0.0</td>\n      <td>0.0</td>\n      <td>3.0</td>\n      <td>0.0</td>\n      <td>0.0</td>\n      <td>0.0</td>\n      <td>0.0</td>\n    </tr>\n    <tr>\n      <th>130</th>\n      <td>2013-11-02</td>\n      <td>USA</td>\n      <td>Tesla kills cyclist</td>\n      <td>1</td>\n      <td>0.0</td>\n      <td>0.0</td>\n      <td>0.0</td>\n      <td>1.0</td>\n      <td>1.0</td>\n      <td>0.0</td>\n      <td>0.0</td>\n    </tr>\n    <tr>\n      <th>131</th>\n      <td>2013-04-02</td>\n      <td>USA</td>\n      <td>Tesla veers into opposite lane</td>\n      <td>2</td>\n      <td>0.0</td>\n      <td>0.0</td>\n      <td>2.0</td>\n      <td>0.0</td>\n      <td>0.0</td>\n      <td>0.0</td>\n      <td>0.0</td>\n    </tr>\n  </tbody>\n</table>\n<p>128 rows × 11 columns</p>\n</div>"
     },
     "metadata": {},
     "execution_count": 11
    }
   ],
   "source": [
    "#Clean the Stocks\n",
    "t_d_clean = tesla_deaths_df[['date','country','description','deaths','tesla_driver','tesla_occupant','other_vehicle','cyclists_peds','tsla_cycl_peds','autopilot_claimed','verified_tesla_autopilot_death']]\n",
    "tesla_death_dropped = t_d_clean.dropna()\n",
    "tesla_death_dropped"
   ]
  },
  {
   "cell_type": "code",
   "execution_count": 18,
   "metadata": {},
   "outputs": [
    {
     "output_type": "stream",
     "name": "stderr",
     "text": [
      "ipykernel_launcher:1: SettingWithCopyWarning: \nA value is trying to be set on a copy of a slice from a DataFrame.\nTry using .loc[row_indexer,col_indexer] = value instead\n\nSee the caveats in the documentation: https://pandas.pydata.org/pandas-docs/stable/user_guide/indexing.html#returning-a-view-versus-a-copy\n"
     ]
    },
    {
     "output_type": "execute_result",
     "data": {
      "text/plain": [
       "          date  country                                        description  \\\n",
       "0   2013-04-02      USA                     Tesla veers into opposite lane   \n",
       "1   2013-11-02      USA                                Tesla kills cyclist   \n",
       "2   2014-07-04      USA                         Thief crashes stolen Tesla   \n",
       "3   2014-07-04      USA                        Tesla rear ends stopped car   \n",
       "4   2014-07-14      USA                           Tesla kills motorcyclist   \n",
       "..         ...      ...                                                ...   \n",
       "123 2020-08-13  Germany                            Tesla crashes into tree   \n",
       "124 2020-09-05    China  Tesla crashes into crowd, 2 dead and several i...   \n",
       "125 2020-09-06      USA  Tesla runs thru red light, crashes, driver die...   \n",
       "126 2020-09-12      USA      Car lands on Tesla, other vehicle driver dies   \n",
       "127 2020-09-17      USA  Tesla loses control and crashes into bus shelt...   \n",
       "\n",
       "    deaths  tesla_driver  tesla_occupant  other_vehicle  cyclists_peds  \\\n",
       "0        2           0.0             0.0            2.0            0.0   \n",
       "1        1           0.0             0.0            0.0            1.0   \n",
       "2        1           1.0             0.0            0.0            0.0   \n",
       "3        3           0.0             0.0            3.0            0.0   \n",
       "4        1           0.0             0.0            1.0            0.0   \n",
       "..     ...           ...             ...            ...            ...   \n",
       "123      1           1.0             0.0            0.0            0.0   \n",
       "124      2           0.0             0.0            0.0            2.0   \n",
       "125      1           1.0             0.0            0.0            0.0   \n",
       "126      1           0.0             0.0            1.0            0.0   \n",
       "127      1           0.0             0.0            0.0            1.0   \n",
       "\n",
       "     tsla_cycl_peds  autopilot_claimed  verified_tesla_autopilot_death  \n",
       "0               0.0                0.0                             0.0  \n",
       "1               1.0                0.0                             0.0  \n",
       "2               1.0                0.0                             0.0  \n",
       "3               0.0                0.0                             0.0  \n",
       "4               0.0                0.0                             0.0  \n",
       "..              ...                ...                             ...  \n",
       "123             1.0                1.0                             0.0  \n",
       "124             2.0                0.0                             0.0  \n",
       "125             1.0                0.0                             0.0  \n",
       "126             0.0                0.0                             0.0  \n",
       "127             1.0                1.0                             0.0  \n",
       "\n",
       "[128 rows x 11 columns]"
      ],
      "text/html": "<div>\n<style scoped>\n    .dataframe tbody tr th:only-of-type {\n        vertical-align: middle;\n    }\n\n    .dataframe tbody tr th {\n        vertical-align: top;\n    }\n\n    .dataframe thead th {\n        text-align: right;\n    }\n</style>\n<table border=\"1\" class=\"dataframe\">\n  <thead>\n    <tr style=\"text-align: right;\">\n      <th></th>\n      <th>date</th>\n      <th>country</th>\n      <th>description</th>\n      <th>deaths</th>\n      <th>tesla_driver</th>\n      <th>tesla_occupant</th>\n      <th>other_vehicle</th>\n      <th>cyclists_peds</th>\n      <th>tsla_cycl_peds</th>\n      <th>autopilot_claimed</th>\n      <th>verified_tesla_autopilot_death</th>\n    </tr>\n  </thead>\n  <tbody>\n    <tr>\n      <th>0</th>\n      <td>2013-04-02</td>\n      <td>USA</td>\n      <td>Tesla veers into opposite lane</td>\n      <td>2</td>\n      <td>0.0</td>\n      <td>0.0</td>\n      <td>2.0</td>\n      <td>0.0</td>\n      <td>0.0</td>\n      <td>0.0</td>\n      <td>0.0</td>\n    </tr>\n    <tr>\n      <th>1</th>\n      <td>2013-11-02</td>\n      <td>USA</td>\n      <td>Tesla kills cyclist</td>\n      <td>1</td>\n      <td>0.0</td>\n      <td>0.0</td>\n      <td>0.0</td>\n      <td>1.0</td>\n      <td>1.0</td>\n      <td>0.0</td>\n      <td>0.0</td>\n    </tr>\n    <tr>\n      <th>2</th>\n      <td>2014-07-04</td>\n      <td>USA</td>\n      <td>Thief crashes stolen Tesla</td>\n      <td>1</td>\n      <td>1.0</td>\n      <td>0.0</td>\n      <td>0.0</td>\n      <td>0.0</td>\n      <td>1.0</td>\n      <td>0.0</td>\n      <td>0.0</td>\n    </tr>\n    <tr>\n      <th>3</th>\n      <td>2014-07-04</td>\n      <td>USA</td>\n      <td>Tesla rear ends stopped car</td>\n      <td>3</td>\n      <td>0.0</td>\n      <td>0.0</td>\n      <td>3.0</td>\n      <td>0.0</td>\n      <td>0.0</td>\n      <td>0.0</td>\n      <td>0.0</td>\n    </tr>\n    <tr>\n      <th>4</th>\n      <td>2014-07-14</td>\n      <td>USA</td>\n      <td>Tesla kills motorcyclist</td>\n      <td>1</td>\n      <td>0.0</td>\n      <td>0.0</td>\n      <td>1.0</td>\n      <td>0.0</td>\n      <td>0.0</td>\n      <td>0.0</td>\n      <td>0.0</td>\n    </tr>\n    <tr>\n      <th>...</th>\n      <td>...</td>\n      <td>...</td>\n      <td>...</td>\n      <td>...</td>\n      <td>...</td>\n      <td>...</td>\n      <td>...</td>\n      <td>...</td>\n      <td>...</td>\n      <td>...</td>\n      <td>...</td>\n    </tr>\n    <tr>\n      <th>123</th>\n      <td>2020-08-13</td>\n      <td>Germany</td>\n      <td>Tesla crashes into tree</td>\n      <td>1</td>\n      <td>1.0</td>\n      <td>0.0</td>\n      <td>0.0</td>\n      <td>0.0</td>\n      <td>1.0</td>\n      <td>1.0</td>\n      <td>0.0</td>\n    </tr>\n    <tr>\n      <th>124</th>\n      <td>2020-09-05</td>\n      <td>China</td>\n      <td>Tesla crashes into crowd, 2 dead and several i...</td>\n      <td>2</td>\n      <td>0.0</td>\n      <td>0.0</td>\n      <td>0.0</td>\n      <td>2.0</td>\n      <td>2.0</td>\n      <td>0.0</td>\n      <td>0.0</td>\n    </tr>\n    <tr>\n      <th>125</th>\n      <td>2020-09-06</td>\n      <td>USA</td>\n      <td>Tesla runs thru red light, crashes, driver die...</td>\n      <td>1</td>\n      <td>1.0</td>\n      <td>0.0</td>\n      <td>0.0</td>\n      <td>0.0</td>\n      <td>1.0</td>\n      <td>0.0</td>\n      <td>0.0</td>\n    </tr>\n    <tr>\n      <th>126</th>\n      <td>2020-09-12</td>\n      <td>USA</td>\n      <td>Car lands on Tesla, other vehicle driver dies</td>\n      <td>1</td>\n      <td>0.0</td>\n      <td>0.0</td>\n      <td>1.0</td>\n      <td>0.0</td>\n      <td>0.0</td>\n      <td>0.0</td>\n      <td>0.0</td>\n    </tr>\n    <tr>\n      <th>127</th>\n      <td>2020-09-17</td>\n      <td>USA</td>\n      <td>Tesla loses control and crashes into bus shelt...</td>\n      <td>1</td>\n      <td>0.0</td>\n      <td>0.0</td>\n      <td>0.0</td>\n      <td>1.0</td>\n      <td>1.0</td>\n      <td>1.0</td>\n      <td>0.0</td>\n    </tr>\n  </tbody>\n</table>\n<p>128 rows × 11 columns</p>\n</div>"
     },
     "metadata": {},
     "execution_count": 18
    }
   ],
   "source": [
    "tesla_death_dropped['date'] = pd.to_datetime(tesla_death_dropped['date'])\n",
    "\n",
    "start_date = '01-01-2013'\n",
    "end_date = '12-31-2020'\n",
    "\n",
    "mask = (tesla_death_dropped['date'] > start_date) & (tesla_death_dropped['date'] <= end_date)\n",
    "\n",
    "tesla_death = tesla_death_dropped.loc[mask]\n",
    "\n",
    "tesla_d = tesla_death.sort_values('date',ascending=True)\n",
    "\n",
    "td_clean = tesla_d.reset_index(drop=True)\n",
    "\n",
    "td_clean\n"
   ]
  },
  {
   "cell_type": "code",
   "execution_count": null,
   "metadata": {},
   "outputs": [],
   "source": []
  }
 ],
 "metadata": {
  "kernelspec": {
   "name": "python3610jvsc74a57bd0878543922dfa0db5b921533c15bb17828ca230de8c8fd7e418f81e793bfa1eab",
   "display_name": "Python 3.6.10 64-bit ('PythonData': conda)"
  },
  "language_info": {
   "codemirror_mode": {
    "name": "ipython",
    "version": 3
   },
   "file_extension": ".py",
   "mimetype": "text/x-python",
   "name": "python",
   "nbconvert_exporter": "python",
   "pygments_lexer": "ipython3",
   "version": "3.6.10"
  }
 },
 "nbformat": 4,
 "nbformat_minor": 5
}